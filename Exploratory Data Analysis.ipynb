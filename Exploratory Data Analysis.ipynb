{
  "cells": [
    {
      "cell_type": "markdown",
      "metadata": {
        "id": "0bMZS53q25sE"
      },
      "source": [
        "#Problem Overview"
      ]
    },
    {
      "cell_type": "markdown",
      "metadata": {
        "id": "PtPZ4rCD6mET"
      },
      "source": [
        "Instacart is an American company that provides grocery delivery and pick-up service.The goal of the competition is to predict which products will be in a user's next order. So it predicts which previously products will be in the users next order\n",
        "\n",
        "In this problem we are not recommending new products to the user instead of that we are going to recommend the products which is previously bought by the user. It is interesting problem because here we need to find the users rendered behaviour so we can personalized the user's crt"
      ]
    },
    {
      "cell_type": "markdown",
      "metadata": {
        "id": "4LSR3IDQcwcO"
      },
      "source": [
        "#Imports"
      ]
    },
    {
      "cell_type": "code",
      "execution_count": 2,
      "metadata": {
        "id": "QJSv8Hf124y9"
      },
      "outputs": [],
      "source": [
        "import numpy as np\n",
        "import pandas as pd\n",
        "import seaborn as sns\n",
        "import xgboost as xgb\n",
        "import matplotlib.pyplot as plt\n",
        "from datetime import datetime"
      ]
    },
    {
      "cell_type": "markdown",
      "metadata": {
        "id": "3j6hAJ-Ghb5N"
      },
      "source": [
        "#A Glimpse of the Dataset"
      ]
    },
    {
      "cell_type": "code",
      "execution_count": 3,
      "metadata": {
        "id": "qS_OyAYSDJ6Z"
      },
      "outputs": [],
      "source": [
        "order_products_train_df=pd.read_csv('order_products__train.csv')\n",
        "order_products_prior=pd.read_csv('order_products__prior.csv')\n",
        "orders=pd.read_csv('orders.csv')\n",
        "aisles=pd.read_csv('aisles.csv')\n",
        "departments=pd.read_csv('departments.csv')\n",
        "products=pd.read_csv('products.csv')\n",
        "submission=pd.read_csv('sample_submission.csv')"
      ]
    },
    {
      "cell_type": "markdown",
      "metadata": {
        "id": "KZZxnGGWjtb-"
      },
      "source": [
        "###orders - It consists of order details placed by any user\n",
        "\n",
        "*   Order_id : Unique for every order\n",
        "*   User_id : Unique for every user\n",
        "*   Eval_set : ( prior / train / test)\n",
        "*   Order_number : ith order placed by user\n",
        "*   Order_dow : Day of week\n",
        "*   Order_hour_of_day : Time of day in hr\n",
        "*   Days_since_prior_order : difference in days between 2 orders\n",
        "\n"
      ]
    },
    {
      "cell_type": "code",
      "execution_count": 4,
      "metadata": {
        "colab": {
          "base_uri": "https://localhost:8080/",
          "height": 206
        },
        "id": "m43sAmtEGgFv",
        "outputId": "60f3178c-5f71-4174-a8b3-be3bf8d43b29"
      },
      "outputs": [
        {
          "data": {
            "text/html": [
              "<div>\n",
              "<style scoped>\n",
              "    .dataframe tbody tr th:only-of-type {\n",
              "        vertical-align: middle;\n",
              "    }\n",
              "\n",
              "    .dataframe tbody tr th {\n",
              "        vertical-align: top;\n",
              "    }\n",
              "\n",
              "    .dataframe thead th {\n",
              "        text-align: right;\n",
              "    }\n",
              "</style>\n",
              "<table border=\"1\" class=\"dataframe\">\n",
              "  <thead>\n",
              "    <tr style=\"text-align: right;\">\n",
              "      <th></th>\n",
              "      <th>order_id</th>\n",
              "      <th>user_id</th>\n",
              "      <th>eval_set</th>\n",
              "      <th>order_number</th>\n",
              "      <th>order_dow</th>\n",
              "      <th>order_hour_of_day</th>\n",
              "      <th>days_since_prior_order</th>\n",
              "    </tr>\n",
              "  </thead>\n",
              "  <tbody>\n",
              "    <tr>\n",
              "      <th>0</th>\n",
              "      <td>2539329</td>\n",
              "      <td>1</td>\n",
              "      <td>prior</td>\n",
              "      <td>1</td>\n",
              "      <td>2</td>\n",
              "      <td>8</td>\n",
              "      <td>NaN</td>\n",
              "    </tr>\n",
              "    <tr>\n",
              "      <th>1</th>\n",
              "      <td>2398795</td>\n",
              "      <td>1</td>\n",
              "      <td>prior</td>\n",
              "      <td>2</td>\n",
              "      <td>3</td>\n",
              "      <td>7</td>\n",
              "      <td>15.0</td>\n",
              "    </tr>\n",
              "    <tr>\n",
              "      <th>2</th>\n",
              "      <td>473747</td>\n",
              "      <td>1</td>\n",
              "      <td>prior</td>\n",
              "      <td>3</td>\n",
              "      <td>3</td>\n",
              "      <td>12</td>\n",
              "      <td>21.0</td>\n",
              "    </tr>\n",
              "    <tr>\n",
              "      <th>3</th>\n",
              "      <td>2254736</td>\n",
              "      <td>1</td>\n",
              "      <td>prior</td>\n",
              "      <td>4</td>\n",
              "      <td>4</td>\n",
              "      <td>7</td>\n",
              "      <td>29.0</td>\n",
              "    </tr>\n",
              "    <tr>\n",
              "      <th>4</th>\n",
              "      <td>431534</td>\n",
              "      <td>1</td>\n",
              "      <td>prior</td>\n",
              "      <td>5</td>\n",
              "      <td>4</td>\n",
              "      <td>15</td>\n",
              "      <td>28.0</td>\n",
              "    </tr>\n",
              "  </tbody>\n",
              "</table>\n",
              "</div>"
            ],
            "text/plain": [
              "   order_id  user_id eval_set  order_number  order_dow  order_hour_of_day  \\\n",
              "0   2539329        1    prior             1          2                  8   \n",
              "1   2398795        1    prior             2          3                  7   \n",
              "2    473747        1    prior             3          3                 12   \n",
              "3   2254736        1    prior             4          4                  7   \n",
              "4    431534        1    prior             5          4                 15   \n",
              "\n",
              "   days_since_prior_order  \n",
              "0                     NaN  \n",
              "1                    15.0  \n",
              "2                    21.0  \n",
              "3                    29.0  \n",
              "4                    28.0  "
            ]
          },
          "execution_count": 4,
          "metadata": {},
          "output_type": "execute_result"
        }
      ],
      "source": [
        "orders.head()"
      ]
    },
    {
      "cell_type": "code",
      "execution_count": 5,
      "metadata": {
        "colab": {
          "base_uri": "https://localhost:8080/"
        },
        "id": "Z8JR06GHjyTK",
        "outputId": "c9136fcc-7dcd-48de-ca45-018b5ccf008e"
      },
      "outputs": [
        {
          "data": {
            "text/plain": [
              "(3421083, 7)"
            ]
          },
          "execution_count": 5,
          "metadata": {},
          "output_type": "execute_result"
        }
      ],
      "source": [
        "orders.shape"
      ]
    },
    {
      "cell_type": "markdown",
      "metadata": {
        "id": "1bNowLQHk9nC"
      },
      "source": [
        "### order_products__prior — consists of all product details for any prior order"
      ]
    },
    {
      "cell_type": "markdown",
      "metadata": {
        "id": "_lRNyGqKlFHs"
      },
      "source": [
        "*   order_id : Unique order id for every order\n",
        "*   product_id : product ID of item\n",
        "*   add_to_cart_order : denotes the sequence in which products were added to cart.\n",
        "*   reordered : product is reordered\n",
        "\n",
        "\n",
        "\n",
        "\n"
      ]
    },
    {
      "cell_type": "code",
      "execution_count": 6,
      "metadata": {
        "colab": {
          "base_uri": "https://localhost:8080/",
          "height": 206
        },
        "id": "tHKAGnx7GqiE",
        "outputId": "ff16b383-5582-4cd2-f542-935654a58498"
      },
      "outputs": [
        {
          "data": {
            "text/html": [
              "<div>\n",
              "<style scoped>\n",
              "    .dataframe tbody tr th:only-of-type {\n",
              "        vertical-align: middle;\n",
              "    }\n",
              "\n",
              "    .dataframe tbody tr th {\n",
              "        vertical-align: top;\n",
              "    }\n",
              "\n",
              "    .dataframe thead th {\n",
              "        text-align: right;\n",
              "    }\n",
              "</style>\n",
              "<table border=\"1\" class=\"dataframe\">\n",
              "  <thead>\n",
              "    <tr style=\"text-align: right;\">\n",
              "      <th></th>\n",
              "      <th>order_id</th>\n",
              "      <th>product_id</th>\n",
              "      <th>add_to_cart_order</th>\n",
              "      <th>reordered</th>\n",
              "    </tr>\n",
              "  </thead>\n",
              "  <tbody>\n",
              "    <tr>\n",
              "      <th>0</th>\n",
              "      <td>2</td>\n",
              "      <td>33120</td>\n",
              "      <td>1</td>\n",
              "      <td>1</td>\n",
              "    </tr>\n",
              "    <tr>\n",
              "      <th>1</th>\n",
              "      <td>2</td>\n",
              "      <td>28985</td>\n",
              "      <td>2</td>\n",
              "      <td>1</td>\n",
              "    </tr>\n",
              "    <tr>\n",
              "      <th>2</th>\n",
              "      <td>2</td>\n",
              "      <td>9327</td>\n",
              "      <td>3</td>\n",
              "      <td>0</td>\n",
              "    </tr>\n",
              "    <tr>\n",
              "      <th>3</th>\n",
              "      <td>2</td>\n",
              "      <td>45918</td>\n",
              "      <td>4</td>\n",
              "      <td>1</td>\n",
              "    </tr>\n",
              "    <tr>\n",
              "      <th>4</th>\n",
              "      <td>2</td>\n",
              "      <td>30035</td>\n",
              "      <td>5</td>\n",
              "      <td>0</td>\n",
              "    </tr>\n",
              "  </tbody>\n",
              "</table>\n",
              "</div>"
            ],
            "text/plain": [
              "   order_id  product_id  add_to_cart_order  reordered\n",
              "0         2       33120                  1          1\n",
              "1         2       28985                  2          1\n",
              "2         2        9327                  3          0\n",
              "3         2       45918                  4          1\n",
              "4         2       30035                  5          0"
            ]
          },
          "execution_count": 6,
          "metadata": {},
          "output_type": "execute_result"
        }
      ],
      "source": [
        "order_products_prior.head()"
      ]
    },
    {
      "cell_type": "code",
      "execution_count": 7,
      "metadata": {
        "colab": {
          "base_uri": "https://localhost:8080/",
          "height": 206
        },
        "id": "Y17y5AwYGsUL",
        "outputId": "9a232ed8-2d8b-4f65-f7b8-f8df29b89a71"
      },
      "outputs": [
        {
          "data": {
            "text/html": [
              "<div>\n",
              "<style scoped>\n",
              "    .dataframe tbody tr th:only-of-type {\n",
              "        vertical-align: middle;\n",
              "    }\n",
              "\n",
              "    .dataframe tbody tr th {\n",
              "        vertical-align: top;\n",
              "    }\n",
              "\n",
              "    .dataframe thead th {\n",
              "        text-align: right;\n",
              "    }\n",
              "</style>\n",
              "<table border=\"1\" class=\"dataframe\">\n",
              "  <thead>\n",
              "    <tr style=\"text-align: right;\">\n",
              "      <th></th>\n",
              "      <th>order_id</th>\n",
              "      <th>product_id</th>\n",
              "      <th>add_to_cart_order</th>\n",
              "      <th>reordered</th>\n",
              "    </tr>\n",
              "  </thead>\n",
              "  <tbody>\n",
              "    <tr>\n",
              "      <th>0</th>\n",
              "      <td>1</td>\n",
              "      <td>49302</td>\n",
              "      <td>1</td>\n",
              "      <td>1</td>\n",
              "    </tr>\n",
              "    <tr>\n",
              "      <th>1</th>\n",
              "      <td>1</td>\n",
              "      <td>11109</td>\n",
              "      <td>2</td>\n",
              "      <td>1</td>\n",
              "    </tr>\n",
              "    <tr>\n",
              "      <th>2</th>\n",
              "      <td>1</td>\n",
              "      <td>10246</td>\n",
              "      <td>3</td>\n",
              "      <td>0</td>\n",
              "    </tr>\n",
              "    <tr>\n",
              "      <th>3</th>\n",
              "      <td>1</td>\n",
              "      <td>49683</td>\n",
              "      <td>4</td>\n",
              "      <td>0</td>\n",
              "    </tr>\n",
              "    <tr>\n",
              "      <th>4</th>\n",
              "      <td>1</td>\n",
              "      <td>43633</td>\n",
              "      <td>5</td>\n",
              "      <td>1</td>\n",
              "    </tr>\n",
              "  </tbody>\n",
              "</table>\n",
              "</div>"
            ],
            "text/plain": [
              "   order_id  product_id  add_to_cart_order  reordered\n",
              "0         1       49302                  1          1\n",
              "1         1       11109                  2          1\n",
              "2         1       10246                  3          0\n",
              "3         1       49683                  4          0\n",
              "4         1       43633                  5          1"
            ]
          },
          "execution_count": 7,
          "metadata": {},
          "output_type": "execute_result"
        }
      ],
      "source": [
        "order_products_train_df.head()"
      ]
    },
    {
      "cell_type": "code",
      "execution_count": 8,
      "metadata": {
        "colab": {
          "base_uri": "https://localhost:8080/"
        },
        "id": "CSMEPTwhldKC",
        "outputId": "ee069d64-1872-401d-922a-a77b97ca6ad4"
      },
      "outputs": [
        {
          "data": {
            "text/plain": [
              "(32434489, 4)"
            ]
          },
          "execution_count": 8,
          "metadata": {},
          "output_type": "execute_result"
        }
      ],
      "source": [
        "order_products_prior.shape"
      ]
    },
    {
      "cell_type": "markdown",
      "metadata": {
        "id": "jQ72QfBQliJJ"
      },
      "source": [
        "###department — details of department\n",
        "*   department_id : product ID of item\n",
        "*   department_name : name of department"
      ]
    },
    {
      "cell_type": "code",
      "execution_count": 9,
      "metadata": {
        "colab": {
          "base_uri": "https://localhost:8080/",
          "height": 206
        },
        "id": "bjhO93KWG1Uk",
        "outputId": "57917d9f-2e25-488a-8ccf-ade5bc34088e"
      },
      "outputs": [
        {
          "data": {
            "text/html": [
              "<div>\n",
              "<style scoped>\n",
              "    .dataframe tbody tr th:only-of-type {\n",
              "        vertical-align: middle;\n",
              "    }\n",
              "\n",
              "    .dataframe tbody tr th {\n",
              "        vertical-align: top;\n",
              "    }\n",
              "\n",
              "    .dataframe thead th {\n",
              "        text-align: right;\n",
              "    }\n",
              "</style>\n",
              "<table border=\"1\" class=\"dataframe\">\n",
              "  <thead>\n",
              "    <tr style=\"text-align: right;\">\n",
              "      <th></th>\n",
              "      <th>department_id</th>\n",
              "      <th>department</th>\n",
              "    </tr>\n",
              "  </thead>\n",
              "  <tbody>\n",
              "    <tr>\n",
              "      <th>0</th>\n",
              "      <td>1</td>\n",
              "      <td>frozen</td>\n",
              "    </tr>\n",
              "    <tr>\n",
              "      <th>1</th>\n",
              "      <td>2</td>\n",
              "      <td>other</td>\n",
              "    </tr>\n",
              "    <tr>\n",
              "      <th>2</th>\n",
              "      <td>3</td>\n",
              "      <td>bakery</td>\n",
              "    </tr>\n",
              "    <tr>\n",
              "      <th>3</th>\n",
              "      <td>4</td>\n",
              "      <td>produce</td>\n",
              "    </tr>\n",
              "    <tr>\n",
              "      <th>4</th>\n",
              "      <td>5</td>\n",
              "      <td>alcohol</td>\n",
              "    </tr>\n",
              "  </tbody>\n",
              "</table>\n",
              "</div>"
            ],
            "text/plain": [
              "   department_id department\n",
              "0              1     frozen\n",
              "1              2      other\n",
              "2              3     bakery\n",
              "3              4    produce\n",
              "4              5    alcohol"
            ]
          },
          "execution_count": 9,
          "metadata": {},
          "output_type": "execute_result"
        }
      ],
      "source": [
        "departments.head()"
      ]
    },
    {
      "cell_type": "markdown",
      "metadata": {
        "id": "cXTlC6tJlvB2"
      },
      "source": [
        "###Aisles — details of aisles\n",
        "*   aisle_id : aisle ID of item\n",
        "*   aisle_name : name of aisle"
      ]
    },
    {
      "cell_type": "code",
      "execution_count": 10,
      "metadata": {
        "colab": {
          "base_uri": "https://localhost:8080/",
          "height": 206
        },
        "id": "L3n338UbHNDc",
        "outputId": "788ac0c0-942b-4829-cd8d-453280b41326"
      },
      "outputs": [
        {
          "data": {
            "text/html": [
              "<div>\n",
              "<style scoped>\n",
              "    .dataframe tbody tr th:only-of-type {\n",
              "        vertical-align: middle;\n",
              "    }\n",
              "\n",
              "    .dataframe tbody tr th {\n",
              "        vertical-align: top;\n",
              "    }\n",
              "\n",
              "    .dataframe thead th {\n",
              "        text-align: right;\n",
              "    }\n",
              "</style>\n",
              "<table border=\"1\" class=\"dataframe\">\n",
              "  <thead>\n",
              "    <tr style=\"text-align: right;\">\n",
              "      <th></th>\n",
              "      <th>aisle_id</th>\n",
              "      <th>aisle</th>\n",
              "    </tr>\n",
              "  </thead>\n",
              "  <tbody>\n",
              "    <tr>\n",
              "      <th>0</th>\n",
              "      <td>1</td>\n",
              "      <td>prepared soups salads</td>\n",
              "    </tr>\n",
              "    <tr>\n",
              "      <th>1</th>\n",
              "      <td>2</td>\n",
              "      <td>specialty cheeses</td>\n",
              "    </tr>\n",
              "    <tr>\n",
              "      <th>2</th>\n",
              "      <td>3</td>\n",
              "      <td>energy granola bars</td>\n",
              "    </tr>\n",
              "    <tr>\n",
              "      <th>3</th>\n",
              "      <td>4</td>\n",
              "      <td>instant foods</td>\n",
              "    </tr>\n",
              "    <tr>\n",
              "      <th>4</th>\n",
              "      <td>5</td>\n",
              "      <td>marinades meat preparation</td>\n",
              "    </tr>\n",
              "  </tbody>\n",
              "</table>\n",
              "</div>"
            ],
            "text/plain": [
              "   aisle_id                       aisle\n",
              "0         1       prepared soups salads\n",
              "1         2           specialty cheeses\n",
              "2         3         energy granola bars\n",
              "3         4               instant foods\n",
              "4         5  marinades meat preparation"
            ]
          },
          "execution_count": 10,
          "metadata": {},
          "output_type": "execute_result"
        }
      ],
      "source": [
        "aisles.head()"
      ]
    },
    {
      "cell_type": "code",
      "execution_count": 11,
      "metadata": {
        "colab": {
          "base_uri": "https://localhost:8080/"
        },
        "id": "QI3XxLqEl_to",
        "outputId": "066489f2-58df-4c1f-e1dd-aa6a2c2fb1c8"
      },
      "outputs": [
        {
          "data": {
            "text/plain": [
              "(134, 2)"
            ]
          },
          "execution_count": 11,
          "metadata": {},
          "output_type": "execute_result"
        }
      ],
      "source": [
        "aisles.shape"
      ]
    },
    {
      "cell_type": "markdown",
      "metadata": {
        "id": "-50XseWHmI4s"
      },
      "source": [
        "###products — details of a product\n",
        "*   product_id : product ID of item\n",
        "*   product_name : name of product\n",
        "*   aisle_id : aisle id of the product\n",
        "*   department_id : department id of the product"
      ]
    },
    {
      "cell_type": "code",
      "execution_count": 12,
      "metadata": {
        "colab": {
          "base_uri": "https://localhost:8080/",
          "height": 206
        },
        "id": "iFQZgF4RmGC_",
        "outputId": "3aca7570-7922-4231-c05a-d45f1f666a4b"
      },
      "outputs": [
        {
          "data": {
            "text/html": [
              "<div>\n",
              "<style scoped>\n",
              "    .dataframe tbody tr th:only-of-type {\n",
              "        vertical-align: middle;\n",
              "    }\n",
              "\n",
              "    .dataframe tbody tr th {\n",
              "        vertical-align: top;\n",
              "    }\n",
              "\n",
              "    .dataframe thead th {\n",
              "        text-align: right;\n",
              "    }\n",
              "</style>\n",
              "<table border=\"1\" class=\"dataframe\">\n",
              "  <thead>\n",
              "    <tr style=\"text-align: right;\">\n",
              "      <th></th>\n",
              "      <th>product_id</th>\n",
              "      <th>product_name</th>\n",
              "      <th>aisle_id</th>\n",
              "      <th>department_id</th>\n",
              "    </tr>\n",
              "  </thead>\n",
              "  <tbody>\n",
              "    <tr>\n",
              "      <th>0</th>\n",
              "      <td>1</td>\n",
              "      <td>Chocolate Sandwich Cookies</td>\n",
              "      <td>61</td>\n",
              "      <td>19</td>\n",
              "    </tr>\n",
              "    <tr>\n",
              "      <th>1</th>\n",
              "      <td>2</td>\n",
              "      <td>All-Seasons Salt</td>\n",
              "      <td>104</td>\n",
              "      <td>13</td>\n",
              "    </tr>\n",
              "    <tr>\n",
              "      <th>2</th>\n",
              "      <td>3</td>\n",
              "      <td>Robust Golden Unsweetened Oolong Tea</td>\n",
              "      <td>94</td>\n",
              "      <td>7</td>\n",
              "    </tr>\n",
              "    <tr>\n",
              "      <th>3</th>\n",
              "      <td>4</td>\n",
              "      <td>Smart Ones Classic Favorites Mini Rigatoni Wit...</td>\n",
              "      <td>38</td>\n",
              "      <td>1</td>\n",
              "    </tr>\n",
              "    <tr>\n",
              "      <th>4</th>\n",
              "      <td>5</td>\n",
              "      <td>Green Chile Anytime Sauce</td>\n",
              "      <td>5</td>\n",
              "      <td>13</td>\n",
              "    </tr>\n",
              "  </tbody>\n",
              "</table>\n",
              "</div>"
            ],
            "text/plain": [
              "   product_id                                       product_name  aisle_id  \\\n",
              "0           1                         Chocolate Sandwich Cookies        61   \n",
              "1           2                                   All-Seasons Salt       104   \n",
              "2           3               Robust Golden Unsweetened Oolong Tea        94   \n",
              "3           4  Smart Ones Classic Favorites Mini Rigatoni Wit...        38   \n",
              "4           5                          Green Chile Anytime Sauce         5   \n",
              "\n",
              "   department_id  \n",
              "0             19  \n",
              "1             13  \n",
              "2              7  \n",
              "3              1  \n",
              "4             13  "
            ]
          },
          "execution_count": 12,
          "metadata": {},
          "output_type": "execute_result"
        }
      ],
      "source": [
        "products.head()"
      ]
    },
    {
      "cell_type": "code",
      "execution_count": 13,
      "metadata": {
        "colab": {
          "base_uri": "https://localhost:8080/"
        },
        "id": "tRifZo3fmczF",
        "outputId": "bd160592-f66b-4220-d6e3-3bbb734f343a"
      },
      "outputs": [
        {
          "data": {
            "text/plain": [
              "(49688, 4)"
            ]
          },
          "execution_count": 13,
          "metadata": {},
          "output_type": "execute_result"
        }
      ],
      "source": [
        "products.shape"
      ]
    },
    {
      "cell_type": "markdown",
      "metadata": {
        "id": "3BalUaWXc0he"
      },
      "source": [
        "#EDA"
      ]
    },
    {
      "cell_type": "markdown",
      "metadata": {
        "id": "aPWzVGbKmnjX"
      },
      "source": [
        "Let's look at the distribution of train test and prior"
      ]
    },
    {
      "cell_type": "code",
      "execution_count": 14,
      "metadata": {
        "colab": {
          "base_uri": "https://localhost:8080/"
        },
        "id": "AWqO-e7VMI1D",
        "outputId": "38e1fd1b-b448-44f7-f26d-1225cc677962"
      },
      "outputs": [
        {
          "data": {
            "text/plain": [
              "prior    3214874\n",
              "train     131209\n",
              "test       75000\n",
              "Name: eval_set, dtype: int64"
            ]
          },
          "execution_count": 14,
          "metadata": {},
          "output_type": "execute_result"
        }
      ],
      "source": [
        "countSet = orders['eval_set'].value_counts()\n",
        "countSet"
      ]
    },
    {
      "cell_type": "code",
      "execution_count": 15,
      "metadata": {
        "colab": {
          "base_uri": "https://localhost:8080/",
          "height": 583
        },
        "id": "m4gjRr1RMKG7",
        "outputId": "0e8ecb2f-38ec-45c4-9bd4-dc89fc71d576"
      },
      "outputs": [
        {
          "name": "stderr",
          "output_type": "stream",
          "text": [
            "C:\\Users\\jyoti\\anaconda3\\envs\\yourenvname\\lib\\site-packages\\seaborn\\_decorators.py:36: FutureWarning: Pass the following variables as keyword args: x, y. From version 0.12, the only valid positional argument will be `data`, and passing other arguments without an explicit keyword will result in an error or misinterpretation.\n",
            "  warnings.warn(\n"
          ]
        },
        {
          "data": {
            "image/png": "[encoded data removed]",
            "text/plain": [
              "<Figure size 864x576 with 1 Axes>"
            ]
          },
          "metadata": {
            "needs_background": "light"
          },
          "output_type": "display_data"
        }
      ],
      "source": [
        "plt.figure(figsize=(12,8))\n",
        "sns.barplot(countSet.index,countSet.values,)\n",
        "plt.ylabel('Number of occurences')\n",
        "plt.xlabel('eval set')\n",
        "plt.title('Distribution of prior,train ,test')\n",
        "plt.xticks(rotation='vertical')\n",
        "plt.show()"
      ]
    },
    {
      "cell_type": "markdown",
      "metadata": {
        "id": "4nzSleWjmxD1"
      },
      "source": [
        "Let's find the unique number of users"
      ]
    },
    {
      "cell_type": "code",
      "execution_count": 16,
      "metadata": {
        "colab": {
          "base_uri": "https://localhost:8080/",
          "height": 175
        },
        "id": "_F1fOq1UM-ED",
        "outputId": "ad426a28-c1f4-4ffa-a6a1-0b67aa0473e0"
      },
      "outputs": [
        {
          "data": {
            "text/html": [
              "<div>\n",
              "<style scoped>\n",
              "    .dataframe tbody tr th:only-of-type {\n",
              "        vertical-align: middle;\n",
              "    }\n",
              "\n",
              "    .dataframe tbody tr th {\n",
              "        vertical-align: top;\n",
              "    }\n",
              "\n",
              "    .dataframe thead th {\n",
              "        text-align: right;\n",
              "    }\n",
              "</style>\n",
              "<table border=\"1\" class=\"dataframe\">\n",
              "  <thead>\n",
              "    <tr style=\"text-align: right;\">\n",
              "      <th></th>\n",
              "      <th>nunique</th>\n",
              "    </tr>\n",
              "    <tr>\n",
              "      <th>eval_set</th>\n",
              "      <th></th>\n",
              "    </tr>\n",
              "  </thead>\n",
              "  <tbody>\n",
              "    <tr>\n",
              "      <th>prior</th>\n",
              "      <td>206209</td>\n",
              "    </tr>\n",
              "    <tr>\n",
              "      <th>test</th>\n",
              "      <td>75000</td>\n",
              "    </tr>\n",
              "    <tr>\n",
              "      <th>train</th>\n",
              "      <td>131209</td>\n",
              "    </tr>\n",
              "  </tbody>\n",
              "</table>\n",
              "</div>"
            ],
            "text/plain": [
              "          nunique\n",
              "eval_set         \n",
              "prior      206209\n",
              "test        75000\n",
              "train      131209"
            ]
          },
          "execution_count": 16,
          "metadata": {},
          "output_type": "execute_result"
        }
      ],
      "source": [
        "countSrs=orders.groupby('eval_set')['user_id'].agg(['nunique'])\n",
        "countSrs"
      ]
    },
    {
      "cell_type": "markdown",
      "metadata": {
        "id": "jdQUlkF8TsRV"
      },
      "source": [
        "#What is the Frequency of Order Number Amongst the users ?"
      ]
    },
    {
      "cell_type": "code",
      "execution_count": 17,
      "metadata": {
        "colab": {
          "base_uri": "https://localhost:8080/",
          "height": 694
        },
        "id": "H0g3RZrNTm4a",
        "outputId": "6b5856b4-334e-454a-b91f-bfc70547c9cf"
      },
      "outputs": [
        {
          "name": "stderr",
          "output_type": "stream",
          "text": [
            "C:\\Users\\jyoti\\anaconda3\\envs\\yourenvname\\lib\\site-packages\\seaborn\\_decorators.py:36: FutureWarning: Pass the following variables as keyword args: x, y. From version 0.12, the only valid positional argument will be `data`, and passing other arguments without an explicit keyword will result in an error or misinterpretation.\n",
            "  warnings.warn(\n"
          ]
        },
        {
          "data": {
            "image/png": "[encoded data removed]",
            "text/plain": [
              "<Figure size 1080x720 with 1 Axes>"
            ]
          },
          "metadata": {
            "needs_background": "light"
          },
          "output_type": "display_data"
        }
      ],
      "source": [
        "countOrder=orders.groupby(\"user_id\")[\"order_number\"].aggregate(np.max).reset_index()\n",
        "countOrder=countOrder.order_number.value_counts()\n",
        "plt.figure(figsize=(15,10))\n",
        "sns.barplot(countOrder.index,countOrder.values)\n",
        "plt.ylabel('Number of Occurences',fontsize=12)\n",
        "plt.xlabel('Number of orders',fontsize=15)\n",
        "plt.title('Distribution of Orders',fontsize=15)\n",
        "plt.xticks(rotation='vertical')\n",
        "plt.show()"
      ]
    },
    {
      "cell_type": "markdown",
      "metadata": {
        "id": "LWSfHSbzhJ8j"
      },
      "source": [
        "As per the barplot, Maximum time number of orders are 4 for each users. There are some users who has 100 number of orders."
      ]
    },
    {
      "cell_type": "markdown",
      "metadata": {
        "id": "S9hxSMS8hTCV"
      },
      "source": [
        "#What Day Of The Week User Placed The Order?"
      ]
    },
    {
      "cell_type": "code",
      "execution_count": 18,
      "metadata": {
        "colab": {
          "base_uri": "https://localhost:8080/",
          "height": 986
        },
        "id": "t220kbOen-zH",
        "outputId": "8affab12-a237-412d-fed4-e7eef5e42b65"
      },
      "outputs": [
        {
          "name": "stderr",
          "output_type": "stream",
          "text": [
            "C:\\Users\\jyoti\\anaconda3\\envs\\yourenvname\\lib\\site-packages\\seaborn\\_decorators.py:36: FutureWarning: Pass the following variables as keyword args: x, y. From version 0.12, the only valid positional argument will be `data`, and passing other arguments without an explicit keyword will result in an error or misinterpretation.\n",
            "  warnings.warn(\n"
          ]
        },
        {
          "data": {
            "text/plain": [
              "([<matplotlib.axis.XTick at 0x11280d2d3a0>,\n",
              "  <matplotlib.axis.XTick at 0x11280d2d3d0>,\n",
              "  <matplotlib.axis.XTick at 0x11280d0dc10>,\n",
              "  <matplotlib.axis.XTick at 0x11280d7ed90>,\n",
              "  <matplotlib.axis.XTick at 0x112809c9550>,\n",
              "  <matplotlib.axis.XTick at 0x112809c94f0>,\n",
              "  <matplotlib.axis.XTick at 0x112809c9e50>],\n",
              " [Text(0, 0, 'Saturday'),\n",
              "  Text(1, 0, 'Sunday'),\n",
              "  Text(2, 0, 'Monday'),\n",
              "  Text(5, 0, 'Tuesday'),\n",
              "  Text(6, 0, 'Wednesday'),\n",
              "  Text(3, 0, 'Thursday'),\n",
              "  Text(4, 0, 'Friday')])"
            ]
          },
          "execution_count": 18,
          "metadata": {},
          "output_type": "execute_result"
        },
        {
          "data": {
            "image/png": "[encoded data removed]",
            "text/plain": [
              "<Figure size 1080x720 with 1 Axes>"
            ]
          },
          "metadata": {
            "needs_background": "light"
          },
          "output_type": "display_data"
        }
      ],
      "source": [
        "countDow=orders['order_dow'].value_counts()\n",
        "label=['Saturday','Sunday','Monday','Tuesday','Wednesday','Thursday','Friday']\n",
        "plt.figure(figsize=(15,10))\n",
        "sns.barplot(countDow.index,countDow.values)\n",
        "plt.ylabel('Number of Occurences',fontsize=12)\n",
        "plt.xlabel('Day of Week',fontsize=12)\n",
        "plt.title('Frequency of orders on Day of the Week',fontsize=15)\n",
        "plt.xticks(ticks=countDow.index,labels=label,rotation='vertical')"
      ]
    },
    {
      "cell_type": "markdown",
      "metadata": {
        "id": "eMHzwqWVqa1l"
      },
      "source": [
        "There are 7 days in a week most of the time user placed order on that starting days of the week i.e is on Saturday and Sunday where most of the users are free on that day and have time to place the orders\n",
        "Since after two days of the week frequency decreased a bit"
      ]
    },
    {
      "cell_type": "markdown",
      "metadata": {
        "id": "8CC5RNnnrX2_"
      },
      "source": [
        "#In which Hour user place order ?"
      ]
    },
    {
      "cell_type": "code",
      "execution_count": 19,
      "metadata": {
        "colab": {
          "base_uri": "https://localhost:8080/",
          "height": 686
        },
        "id": "auflC0DqrWPd",
        "outputId": "7cc9e57e-267f-47ed-b050-2c728dcf1c2e"
      },
      "outputs": [
        {
          "name": "stderr",
          "output_type": "stream",
          "text": [
            "C:\\Users\\jyoti\\anaconda3\\envs\\yourenvname\\lib\\site-packages\\seaborn\\_decorators.py:36: FutureWarning: Pass the following variables as keyword args: x, y. From version 0.12, the only valid positional argument will be `data`, and passing other arguments without an explicit keyword will result in an error or misinterpretation.\n",
            "  warnings.warn(\n"
          ]
        },
        {
          "data": {
            "image/png": "[encoded data removed]",
            "text/plain": [
              "<Figure size 1080x720 with 1 Axes>"
            ]
          },
          "metadata": {
            "needs_background": "light"
          },
          "output_type": "display_data"
        }
      ],
      "source": [
        "countHour=orders['order_hour_of_day'].value_counts()\n",
        "plt.figure(figsize=(15,10))\n",
        "sns.barplot(countHour.index,countHour.values)\n",
        "plt.ylabel('Number of occurences',fontsize=12)\n",
        "plt.xlabel('Hour of the day',fontsize=12)\n",
        "plt.title('Frequency of Orders on Hours of the Day',fontsize=15)\n",
        "plt.xticks(rotation='vertical')\n",
        "plt.show()"
      ]
    },
    {
      "cell_type": "markdown",
      "metadata": {
        "id": "LMuSBaVFsFzo"
      },
      "source": [
        "The maximum number of order are placed between 10 and 15 hour of the day"
      ]
    },
    {
      "cell_type": "markdown",
      "metadata": {
        "id": "-YfbuE-nsKQi"
      },
      "source": [
        "#After the last purchase How many days the user takes to place the order?"
      ]
    },
    {
      "cell_type": "code",
      "execution_count": 20,
      "metadata": {
        "colab": {
          "base_uri": "https://localhost:8080/",
          "height": 696
        },
        "id": "yEHccesAsQ5L",
        "outputId": "a300820f-ec1a-41d0-ea5e-1692528b7575"
      },
      "outputs": [
        {
          "name": "stderr",
          "output_type": "stream",
          "text": [
            "C:\\Users\\jyoti\\anaconda3\\envs\\yourenvname\\lib\\site-packages\\seaborn\\_decorators.py:36: FutureWarning: Pass the following variables as keyword args: x, y. From version 0.12, the only valid positional argument will be `data`, and passing other arguments without an explicit keyword will result in an error or misinterpretation.\n",
            "  warnings.warn(\n"
          ]
        },
        {
          "data": {
            "image/png": "[encoded data removed]",
            "text/plain": [
              "<Figure size 1080x720 with 1 Axes>"
            ]
          },
          "metadata": {
            "needs_background": "light"
          },
          "output_type": "display_data"
        }
      ],
      "source": [
        "countPriorOrder=orders['days_since_prior_order'].value_counts()\n",
        "plt.figure(figsize=(15,10))\n",
        "sns.barplot(countPriorOrder.index,countPriorOrder.values)\n",
        "plt.ylabel('Number of occurences',fontsize=12)\n",
        "plt.xlabel('Number of Days',fontsize=12)\n",
        "plt.title('Frequency of order since prior order',fontsize=15)\n",
        "plt.xticks(rotation='vertical')\n",
        "plt.show()"
      ]
    },
    {
      "cell_type": "markdown",
      "metadata": {
        "id": "4MHTVvUltLRq"
      },
      "source": [
        "This chart tells us that most of the users place order once in weeks because there is high peak at 7th day and 14th day and 30th day"
      ]
    },
    {
      "cell_type": "markdown",
      "metadata": {
        "id": "wspJcfP5tXIu"
      },
      "source": [
        "#How Many Unique Products and Department in the Data?"
      ]
    },
    {
      "cell_type": "markdown",
      "metadata": {
        "id": "QArAl-EMuSpo"
      },
      "source": [
        "How many unique Products are in the Data?"
      ]
    },
    {
      "cell_type": "code",
      "execution_count": 21,
      "metadata": {
        "colab": {
          "base_uri": "https://localhost:8080/"
        },
        "id": "YX8hXKHAuRjk",
        "outputId": "5dabb75c-21f7-4bb4-d03a-8851ccbde930"
      },
      "outputs": [
        {
          "name": "stdout",
          "output_type": "stream",
          "text": [
            "Unique Number of products :49688\n"
          ]
        }
      ],
      "source": [
        "print(f'Unique Number of products :{len(products.product_name.unique())}')"
      ]
    },
    {
      "cell_type": "markdown",
      "metadata": {
        "id": "kTyyYN6lvB1r"
      },
      "source": [
        "How many unique Department in the data"
      ]
    },
    {
      "cell_type": "code",
      "execution_count": 22,
      "metadata": {
        "colab": {
          "base_uri": "https://localhost:8080/"
        },
        "id": "zUz2wDOivFu3",
        "outputId": "ec7778c9-3925-4b63-9210-c557e9f7178a"
      },
      "outputs": [
        {
          "name": "stdout",
          "output_type": "stream",
          "text": [
            "unique Department in the data :21\n"
          ]
        }
      ],
      "source": [
        "print(f'unique Department in the data :{len(departments.department.unique())}')"
      ]
    },
    {
      "cell_type": "markdown",
      "metadata": {
        "id": "4q3V94T2vQDh"
      },
      "source": [
        "How many unique Aisle in the Data?"
      ]
    },
    {
      "cell_type": "code",
      "execution_count": 23,
      "metadata": {
        "colab": {
          "base_uri": "https://localhost:8080/"
        },
        "id": "MZZ5EunCvPcF",
        "outputId": "f1b53380-feb2-410a-8b1e-96da04f2dab3"
      },
      "outputs": [
        {
          "name": "stdout",
          "output_type": "stream",
          "text": [
            "unique Department in the Aisle :134\n"
          ]
        }
      ],
      "source": [
        "print(f'unique Department in the Aisle :{len(aisles.aisle.unique())}')"
      ]
    },
    {
      "cell_type": "markdown",
      "metadata": {
        "id": "-Y7RzIvLv1Vg"
      },
      "source": [
        "###Merge the dataFrame\n",
        "This can be done by using the Primary ID's of the Products ,Aisle and Department and explore the behavioir of customers towards their orders"
      ]
    },
    {
      "cell_type": "code",
      "execution_count": 24,
      "metadata": {
        "id": "EQPCo6eXwFCf"
      },
      "outputs": [
        {
          "data": {
            "text/html": [
              "<div>\n",
              "<style scoped>\n",
              "    .dataframe tbody tr th:only-of-type {\n",
              "        vertical-align: middle;\n",
              "    }\n",
              "\n",
              "    .dataframe tbody tr th {\n",
              "        vertical-align: top;\n",
              "    }\n",
              "\n",
              "    .dataframe thead th {\n",
              "        text-align: right;\n",
              "    }\n",
              "</style>\n",
              "<table border=\"1\" class=\"dataframe\">\n",
              "  <thead>\n",
              "    <tr style=\"text-align: right;\">\n",
              "      <th></th>\n",
              "      <th>order_id</th>\n",
              "      <th>product_id</th>\n",
              "      <th>add_to_cart_order</th>\n",
              "      <th>reordered</th>\n",
              "      <th>product_name</th>\n",
              "      <th>aisle_id</th>\n",
              "      <th>department_id</th>\n",
              "      <th>aisle</th>\n",
              "      <th>department</th>\n",
              "      <th>user_id</th>\n",
              "      <th>eval_set</th>\n",
              "      <th>order_number</th>\n",
              "      <th>order_dow</th>\n",
              "      <th>order_hour_of_day</th>\n",
              "      <th>days_since_prior_order</th>\n",
              "    </tr>\n",
              "  </thead>\n",
              "  <tbody>\n",
              "    <tr>\n",
              "      <th>0</th>\n",
              "      <td>2</td>\n",
              "      <td>33120</td>\n",
              "      <td>1</td>\n",
              "      <td>1</td>\n",
              "      <td>Organic Egg Whites</td>\n",
              "      <td>86</td>\n",
              "      <td>16</td>\n",
              "      <td>eggs</td>\n",
              "      <td>dairy eggs</td>\n",
              "      <td>202279</td>\n",
              "      <td>prior</td>\n",
              "      <td>3</td>\n",
              "      <td>5</td>\n",
              "      <td>9</td>\n",
              "      <td>8.0</td>\n",
              "    </tr>\n",
              "    <tr>\n",
              "      <th>1</th>\n",
              "      <td>2</td>\n",
              "      <td>28985</td>\n",
              "      <td>2</td>\n",
              "      <td>1</td>\n",
              "      <td>Michigan Organic Kale</td>\n",
              "      <td>83</td>\n",
              "      <td>4</td>\n",
              "      <td>fresh vegetables</td>\n",
              "      <td>produce</td>\n",
              "      <td>202279</td>\n",
              "      <td>prior</td>\n",
              "      <td>3</td>\n",
              "      <td>5</td>\n",
              "      <td>9</td>\n",
              "      <td>8.0</td>\n",
              "    </tr>\n",
              "    <tr>\n",
              "      <th>2</th>\n",
              "      <td>2</td>\n",
              "      <td>17794</td>\n",
              "      <td>6</td>\n",
              "      <td>1</td>\n",
              "      <td>Carrots</td>\n",
              "      <td>83</td>\n",
              "      <td>4</td>\n",
              "      <td>fresh vegetables</td>\n",
              "      <td>produce</td>\n",
              "      <td>202279</td>\n",
              "      <td>prior</td>\n",
              "      <td>3</td>\n",
              "      <td>5</td>\n",
              "      <td>9</td>\n",
              "      <td>8.0</td>\n",
              "    </tr>\n",
              "    <tr>\n",
              "      <th>3</th>\n",
              "      <td>2</td>\n",
              "      <td>43668</td>\n",
              "      <td>9</td>\n",
              "      <td>0</td>\n",
              "      <td>Classic Blend Cole Slaw</td>\n",
              "      <td>123</td>\n",
              "      <td>4</td>\n",
              "      <td>packaged vegetables fruits</td>\n",
              "      <td>produce</td>\n",
              "      <td>202279</td>\n",
              "      <td>prior</td>\n",
              "      <td>3</td>\n",
              "      <td>5</td>\n",
              "      <td>9</td>\n",
              "      <td>8.0</td>\n",
              "    </tr>\n",
              "    <tr>\n",
              "      <th>4</th>\n",
              "      <td>2</td>\n",
              "      <td>9327</td>\n",
              "      <td>3</td>\n",
              "      <td>0</td>\n",
              "      <td>Garlic Powder</td>\n",
              "      <td>104</td>\n",
              "      <td>13</td>\n",
              "      <td>spices seasonings</td>\n",
              "      <td>pantry</td>\n",
              "      <td>202279</td>\n",
              "      <td>prior</td>\n",
              "      <td>3</td>\n",
              "      <td>5</td>\n",
              "      <td>9</td>\n",
              "      <td>8.0</td>\n",
              "    </tr>\n",
              "  </tbody>\n",
              "</table>\n",
              "</div>"
            ],
            "text/plain": [
              "   order_id  product_id  add_to_cart_order  reordered  \\\n",
              "0         2       33120                  1          1   \n",
              "1         2       28985                  2          1   \n",
              "2         2       17794                  6          1   \n",
              "3         2       43668                  9          0   \n",
              "4         2        9327                  3          0   \n",
              "\n",
              "              product_name  aisle_id  department_id  \\\n",
              "0       Organic Egg Whites        86             16   \n",
              "1    Michigan Organic Kale        83              4   \n",
              "2                  Carrots        83              4   \n",
              "3  Classic Blend Cole Slaw       123              4   \n",
              "4            Garlic Powder       104             13   \n",
              "\n",
              "                        aisle  department  user_id eval_set  order_number  \\\n",
              "0                        eggs  dairy eggs   202279    prior             3   \n",
              "1            fresh vegetables     produce   202279    prior             3   \n",
              "2            fresh vegetables     produce   202279    prior             3   \n",
              "3  packaged vegetables fruits     produce   202279    prior             3   \n",
              "4           spices seasonings      pantry   202279    prior             3   \n",
              "\n",
              "   order_dow  order_hour_of_day  days_since_prior_order  \n",
              "0          5                  9                     8.0  \n",
              "1          5                  9                     8.0  \n",
              "2          5                  9                     8.0  \n",
              "3          5                  9                     8.0  \n",
              "4          5                  9                     8.0  "
            ]
          },
          "execution_count": 24,
          "metadata": {},
          "output_type": "execute_result"
        }
      ],
      "source": [
        "df=pd.merge(order_products_prior,products,on=['product_id','product_id'])\n",
        "df = pd.merge(df,aisles,on=['aisle_id','aisle_id'])\n",
        "df = pd.merge(df,departments,on=['department_id','department_id'])\n",
        "df = pd.merge(df,orders,on=['order_id','order_id'])\n",
        "df.head()"
      ]
    },
    {
      "cell_type": "markdown",
      "metadata": {
        "id": "KVI73LJGy0dU"
      },
      "source": [
        "###How Oftern User reorder the same item?\n"
      ]
    },
    {
      "cell_type": "code",
      "execution_count": 25,
      "metadata": {
        "id": "lcvG_MUT0D1J"
      },
      "outputs": [
        {
          "name": "stderr",
          "output_type": "stream",
          "text": [
            "C:\\Users\\jyoti\\anaconda3\\envs\\yourenvname\\lib\\site-packages\\seaborn\\_decorators.py:36: FutureWarning: Pass the following variables as keyword args: x, y. From version 0.12, the only valid positional argument will be `data`, and passing other arguments without an explicit keyword will result in an error or misinterpretation.\n",
            "  warnings.warn(\n"
          ]
        },
        {
          "data": {
            "image/png": "[encoded data removed]",
            "text/plain": [
              "<Figure size 720x360 with 1 Axes>"
            ]
          },
          "metadata": {
            "needs_background": "light"
          },
          "output_type": "display_data"
        }
      ],
      "source": [
        "reOrderRatio=order_products_prior['reordered'].value_counts()\n",
        "plt.figure(figsize=(10,5))\n",
        "sns.barplot(reOrderRatio.index,reOrderRatio.values)\n",
        "plt.ylabel('Count',fontsize=12)\n",
        "plt.xlabel('Reorder',fontsize=12)\n",
        "plt.title('Reorder ratio',fontsize=15)\n",
        "plt.xticks(ticks=reOrderRatio.index,labels=['Re-Order','No Re-Order'],rotation='vertical')\n",
        "plt.show()"
      ]
    },
    {
      "cell_type": "markdown",
      "metadata": {
        "id": "vkgR87Tp2LON"
      },
      "source": [
        "#Top Selling Products"
      ]
    },
    {
      "cell_type": "code",
      "execution_count": 26,
      "metadata": {
        "id": "6epo_uPK2N0K"
      },
      "outputs": [],
      "source": [
        "pr_count = df[\"product_id\"].value_counts().to_frame()\n",
        "pr_count[\"count\"] = pr_count.product_id\n",
        "pr_count[\"product_id\"] = pr_count.index\n",
        "pr_merge = pd.merge(pr_count,products,how=\"left\",on=\"product_id\").sort_values(by=\"count\",ascending=False)\n",
        "pr_merge= pr_merge.drop(['aisle_id','department_id'],axis=1)"
      ]
    },
    {
      "cell_type": "code",
      "execution_count": 27,
      "metadata": {
        "id": "ZtOsc94h3mNT"
      },
      "outputs": [
        {
          "data": {
            "image/png": "[encoded data removed]",
            "text/plain": [
              "<Figure size 1080x720 with 1 Axes>"
            ]
          },
          "metadata": {
            "needs_background": "light"
          },
          "output_type": "display_data"
        }
      ],
      "source": [
        "plt.figure(figsize=(15,10))\n",
        "sns.barplot(data=pr_merge.head(10),x='product_name',y='count')\n",
        "plt.ylabel('Count', fontsize=12)\n",
        "plt.xlabel('Product Name', fontsize=12)\n",
        "plt.title('Top 10 Selling Products', fontsize=15)\n",
        "plt.xticks(rotation='vertical')\n",
        "plt.show()"
      ]
    },
    {
      "cell_type": "markdown",
      "metadata": {
        "id": "zSMq3Pl44IJs"
      },
      "source": [
        "This are the top 100 selling products. The most selling product is Banana and Organic Banana Chips."
      ]
    },
    {
      "cell_type": "markdown",
      "metadata": {
        "id": "xMfUZilp6bFo"
      },
      "source": [
        "#Top 100 Reorderd Products"
      ]
    },
    {
      "cell_type": "code",
      "execution_count": 28,
      "metadata": {
        "id": "bi_gXa464HdI"
      },
      "outputs": [],
      "source": [
        "a=df[df['reordered']==1]['product_id'].value_counts().to_frame()\n",
        "a['reorder_count'] = a.product_id\n",
        "a['product_id'] = a.index\n",
        "reorder = pd.merge(a,products,on='product_id',how='left').sort_values(by=\"reorder_count\",ascending=False)\n",
        "reorder= reorder.drop(['aisle_id','department_id'],axis=1)"
      ]
    },
    {
      "cell_type": "code",
      "execution_count": 29,
      "metadata": {
        "id": "y3dSru066eQY"
      },
      "outputs": [
        {
          "data": {
            "image/png": "[encoded data removed]",
            "text/plain": [
              "<Figure size 1080x720 with 1 Axes>"
            ]
          },
          "metadata": {
            "needs_background": "light"
          },
          "output_type": "display_data"
        }
      ],
      "source": [
        "plt.figure(figsize=(15,10))\n",
        "sns.barplot(data=reorder.head(10),x='product_name',y='reorder_count')\n",
        "plt.ylabel('Count', fontsize=12)\n",
        "plt.xlabel('Product Name', fontsize=12)\n",
        "plt.title('Top 10 Re-Order Products', fontsize=15)\n",
        "plt.xticks(rotation='vertical')\n",
        "plt.show()"
      ]
    },
    {
      "cell_type": "markdown",
      "metadata": {
        "id": "Dr31XVAD6mSu"
      },
      "source": [
        "\n",
        "The top 100 selling products and Top 100 reorder products barplot is almost same.\n",
        "There is high peak on banana and oraganic banana chips looks like that that is most loving product and reorder products among users"
      ]
    },
    {
      "cell_type": "markdown",
      "metadata": {
        "id": "dORhouGI7Ccy"
      },
      "source": [
        "#Which Item User Add to Cart First?"
      ]
    },
    {
      "cell_type": "code",
      "execution_count": 30,
      "metadata": {
        "id": "11oTL3dy6nZn"
      },
      "outputs": [],
      "source": [
        "first_order = order_products_prior[order_products_prior['add_to_cart_order']==1]['product_id'].value_counts().to_frame()\n",
        "first_order['count'] = first_order.product_id\n",
        "first_order['product_id'] = first_order.index\n",
        "order = pd.merge(first_order,products,on='product_id',how='left').sort_values(by=\"count\",ascending=False)\n",
        "order = order.drop(['aisle_id','department_id'],axis=1)"
      ]
    },
    {
      "cell_type": "code",
      "execution_count": 31,
      "metadata": {
        "id": "sNAb5cht7SAa"
      },
      "outputs": [
        {
          "data": {
            "image/png": "[encoded data removed]",
            "text/plain": [
              "<Figure size 1080x720 with 1 Axes>"
            ]
          },
          "metadata": {
            "needs_background": "light"
          },
          "output_type": "display_data"
        }
      ],
      "source": [
        "plt.figure(figsize=(15,10))\n",
        "sns.barplot(data=order.head(10),x='product_name',y='count')\n",
        "plt.ylabel('Count', fontsize=12)\n",
        "plt.xlabel('Product Name', fontsize=12)\n",
        "plt.title('Top 10 First Add to Cart Product', fontsize=15)\n",
        "plt.xticks(rotation='vertical')\n",
        "plt.show()"
      ]
    },
    {
      "cell_type": "markdown",
      "metadata": {
        "id": "hnagE7Pt7e0s"
      },
      "source": [
        "If you see above 3 plots, all plots are almost same.\n",
        "Top selling,reordered and First product add to cart order product is Banana.\n",
        "From all this plot, the demand for produce product are high than any other Department,"
      ]
    },
    {
      "cell_type": "markdown",
      "metadata": {
        "id": "W88u_xB37n3w"
      },
      "source": [
        "#Top Departments"
      ]
    },
    {
      "cell_type": "code",
      "execution_count": 32,
      "metadata": {
        "id": "zhMEa3Td7fo8"
      },
      "outputs": [],
      "source": [
        "\n",
        "depart = df['department_id'].value_counts().to_frame()\n",
        "depart['count'] = depart['department_id']\n",
        "depart['department_id'] = depart.index\n",
        "dep_merge = pd.merge(depart,departments,on='department_id',how='left').sort_values(by='count',ascending=False)"
      ]
    },
    {
      "cell_type": "code",
      "execution_count": 33,
      "metadata": {
        "id": "Si3x7DsA7rv4"
      },
      "outputs": [
        {
          "data": {
            "image/png": "[encoded data removed]",
            "text/plain": [
              "<Figure size 1080x720 with 1 Axes>"
            ]
          },
          "metadata": {
            "needs_background": "light"
          },
          "output_type": "display_data"
        }
      ],
      "source": [
        "plt.figure(figsize=(15,10))\n",
        "sns.barplot(data=dep_merge,x='department',y='count')\n",
        "plt.ylabel('Count', fontsize=12)\n",
        "plt.xlabel('Department Name', fontsize=12)\n",
        "plt.title('Top Department Count', fontsize=15)\n",
        "plt.xticks(rotation='vertical')\n",
        "plt.show()"
      ]
    },
    {
      "cell_type": "markdown",
      "metadata": {
        "id": "2jRDtKUC7y02"
      },
      "source": [
        "The First 2 Department have very high peak than any other department.\n",
        "As the First 2 Department are most important for any users because the Prodcue Department are about farm,crops and fruits and eggs are essiental the breakfast."
      ]
    },
    {
      "cell_type": "code",
      "execution_count": 34,
      "metadata": {
        "id": "xeQcvs5W7zsG"
      },
      "outputs": [
        {
          "data": {
            "text/html": [
              "<div>\n",
              "<style scoped>\n",
              "    .dataframe tbody tr th:only-of-type {\n",
              "        vertical-align: middle;\n",
              "    }\n",
              "\n",
              "    .dataframe tbody tr th {\n",
              "        vertical-align: top;\n",
              "    }\n",
              "\n",
              "    .dataframe thead th {\n",
              "        text-align: right;\n",
              "    }\n",
              "</style>\n",
              "<table border=\"1\" class=\"dataframe\">\n",
              "  <thead>\n",
              "    <tr style=\"text-align: right;\">\n",
              "      <th></th>\n",
              "      <th>order_id</th>\n",
              "      <th>user_id</th>\n",
              "      <th>eval_set</th>\n",
              "      <th>order_number</th>\n",
              "      <th>order_dow</th>\n",
              "      <th>order_hour_of_day</th>\n",
              "      <th>days_since_prior_order</th>\n",
              "      <th>product_id</th>\n",
              "      <th>add_to_cart_order</th>\n",
              "      <th>reordered</th>\n",
              "    </tr>\n",
              "  </thead>\n",
              "  <tbody>\n",
              "    <tr>\n",
              "      <th>0</th>\n",
              "      <td>2539329</td>\n",
              "      <td>1</td>\n",
              "      <td>prior</td>\n",
              "      <td>1</td>\n",
              "      <td>2</td>\n",
              "      <td>8</td>\n",
              "      <td>NaN</td>\n",
              "      <td>196.0</td>\n",
              "      <td>1.0</td>\n",
              "      <td>0.0</td>\n",
              "    </tr>\n",
              "  </tbody>\n",
              "</table>\n",
              "</div>"
            ],
            "text/plain": [
              "   order_id  user_id eval_set  order_number  order_dow  order_hour_of_day  \\\n",
              "0   2539329        1    prior             1          2                  8   \n",
              "\n",
              "   days_since_prior_order  product_id  add_to_cart_order  reordered  \n",
              "0                     NaN       196.0                1.0        0.0  "
            ]
          },
          "execution_count": 34,
          "metadata": {},
          "output_type": "execute_result"
        }
      ],
      "source": [
        "orde = pd.merge(orders,order_products_prior,on='order_id',how='left')\n",
        "orde.head(1)"
      ]
    },
    {
      "cell_type": "markdown",
      "metadata": {
        "id": "GDNB63Zn8B5W"
      },
      "source": [
        "#At What Time User Place Order Again?"
      ]
    },
    {
      "cell_type": "code",
      "execution_count": 35,
      "metadata": {
        "id": "MgN5g8Bh8DJx"
      },
      "outputs": [
        {
          "data": {
            "image/png": "[encoded data removed]",
            "text/plain": [
              "<Figure size 1080x720 with 1 Axes>"
            ]
          },
          "metadata": {
            "needs_background": "light"
          },
          "output_type": "display_data"
        }
      ],
      "source": [
        "a = orde[orde['reordered']==1]['order_hour_of_day'].value_counts().to_frame()\n",
        "a['reorder_count'] = a.order_hour_of_day\n",
        "a['hours'] = a.index\n",
        "\n",
        "plt.figure(figsize=(15,10))\n",
        "sns.barplot(data=a,x='hours',y='reorder_count')\n",
        "plt.ylabel('Count', fontsize=12)\n",
        "plt.xlabel('Hour', fontsize=12)\n",
        "plt.title('Order Hour of the Day VS Reordered', fontsize=15)\n",
        "plt.xticks(rotation='vertical')\n",
        "plt.show()"
      ]
    },
    {
      "cell_type": "markdown",
      "metadata": {
        "id": "kjdYy0t88Hla"
      },
      "source": [
        "Here I plot at what time most reordered products are placed. Most of the orders are placed between 8'0 clock in the morning and 5'0 clock in the evening.\n",
        "This plot is almost same as Frequency of the order day. It shows user tends to order/reorder between this hours. This feature could help to predict reorder."
      ]
    },
    {
      "cell_type": "markdown",
      "metadata": {
        "id": "3Zy376N48MdJ"
      },
      "source": [
        "#At What Day Most User Place Order Again?"
      ]
    },
    {
      "cell_type": "code",
      "execution_count": 36,
      "metadata": {
        "id": "eVgOhnu18G3o"
      },
      "outputs": [
        {
          "data": {
            "image/png": "[encoded data removed]",
            "text/plain": [
              "<Figure size 1080x720 with 1 Axes>"
            ]
          },
          "metadata": {
            "needs_background": "light"
          },
          "output_type": "display_data"
        }
      ],
      "source": [
        "a = orde[orde['reordered']==1]['order_dow'].value_counts().to_frame()\n",
        "a['reorder_count'] = a.order_dow\n",
        "a['dow'] = a.index\n",
        "label = ['Saturday','Sunday','Monday','Tuesday','Wednesday','Thursday','Friday']\n",
        "\n",
        "plt.figure(figsize=(15,10))\n",
        "sns.barplot(data=a,x='dow',y='reorder_count')\n",
        "plt.ylabel('Count', fontsize=12)\n",
        "plt.xlabel('Day Of The Weeek', fontsize=12)\n",
        "plt.title('Day Of The Week VS Reordered', fontsize=15)\n",
        "plt.xticks(rotation='vertical',ticks=a.index,labels=label)\n",
        "plt.show()"
      ]
    },
    {
      "cell_type": "markdown",
      "metadata": {
        "id": "z3HxveoK8Tlw"
      },
      "source": [
        "The Order and Re-Order ration are almost same. The user tends to place order again on Saturday and Sunday.\n",
        "This Feature tells us that Saturday and Sunday have the high ratio of Order/Re-Order getting placed."
      ]
    },
    {
      "cell_type": "markdown",
      "metadata": {
        "id": "f33eN-_E8WKc"
      },
      "source": [
        "#Add To Cart Order VS Reordered"
      ]
    },
    {
      "cell_type": "code",
      "execution_count": 37,
      "metadata": {
        "id": "K-IXLeN68UXe"
      },
      "outputs": [
        {
          "data": {
            "image/png": "[encoded data removed]",
            "text/plain": [
              "<Figure size 1080x720 with 1 Axes>"
            ]
          },
          "metadata": {
            "needs_background": "light"
          },
          "output_type": "display_data"
        }
      ],
      "source": [
        "a = orde[orde['reordered']==1]['add_to_cart_order'].value_counts().to_frame()\n",
        "a['reorder_count'] = a.add_to_cart_order\n",
        "a['order_number'] = a.index\n",
        "\n",
        "plt.figure(figsize=(15,10))\n",
        "sns.barplot(data=a,x='order_number',y='reorder_count')\n",
        "plt.ylabel('Count', fontsize=12)\n",
        "plt.xlabel('Add to Cart Order', fontsize=12)\n",
        "plt.title('Add To Cart Order VS Reordered', fontsize=15)\n",
        "plt.xticks(rotation='vertical')\n",
        "plt.show()"
      ]
    },
    {
      "cell_type": "markdown",
      "metadata": {
        "id": "3DtSWKeR8atG"
      },
      "source": [
        "The order which are added at 1th and 4th position in the cart have high chance of Re-Order by users.\n",
        "\n",
        "This Distrubtion looks like Power Law which states 80% of Re-Order are between 1 to 15th position in the cart."
      ]
    },
    {
      "cell_type": "markdown",
      "metadata": {
        "id": "TBXrkGMj8ecM"
      },
      "source": [
        "\n",
        "#Reorder Ratio of Day of the Week Vs Hour of the Day"
      ]
    },
    {
      "cell_type": "code",
      "execution_count": 38,
      "metadata": {
        "id": "BKmE0_k78bWM"
      },
      "outputs": [
        {
          "data": {
            "image/png": "[encoded data removed]",
            "text/plain": [
              "<Figure size 1080x720 with 2 Axes>"
            ]
          },
          "metadata": {
            "needs_background": "light"
          },
          "output_type": "display_data"
        }
      ],
      "source": [
        "grp = orde.groupby(['order_dow','order_hour_of_day'])['reordered'].aggregate('count').reset_index()\n",
        "grp = grp.pivot(index='order_dow',columns='order_hour_of_day',values='reordered')\n",
        "plt.figure(figsize=(15,10))\n",
        "sns.heatmap(grp,cmap='Greens')\n",
        "plt.title(\"Reorder Ratio of Day of the week Vs Hour of the day\")\n",
        "plt.xlabel('Hour of the day')\n",
        "plt.ylabel('Day of the week')\n",
        "plt.show()"
      ]
    },
    {
      "cell_type": "markdown",
      "metadata": {
        "id": "ZECL9HG-8lLt"
      },
      "source": [
        "This Heatmap tells everything, Lot of users place order on Saturday and Sunday in between 10'clock to 15'clock.\n",
        "This Feature helpful for user beaviour and also for reorder."
      ]
    },
    {
      "cell_type": "code",
      "execution_count": 39,
      "metadata": {
        "id": "dBl6E83P8odv"
      },
      "outputs": [
        {
          "data": {
            "text/html": [
              "<div>\n",
              "<style scoped>\n",
              "    .dataframe tbody tr th:only-of-type {\n",
              "        vertical-align: middle;\n",
              "    }\n",
              "\n",
              "    .dataframe tbody tr th {\n",
              "        vertical-align: top;\n",
              "    }\n",
              "\n",
              "    .dataframe thead th {\n",
              "        text-align: right;\n",
              "    }\n",
              "</style>\n",
              "<table border=\"1\" class=\"dataframe\">\n",
              "  <thead>\n",
              "    <tr style=\"text-align: right;\">\n",
              "      <th></th>\n",
              "      <th>order_id</th>\n",
              "      <th>product_id</th>\n",
              "      <th>add_to_cart_order</th>\n",
              "      <th>reordered</th>\n",
              "      <th>product_name</th>\n",
              "      <th>aisle_id</th>\n",
              "      <th>department_id</th>\n",
              "      <th>department</th>\n",
              "      <th>user_id</th>\n",
              "      <th>eval_set</th>\n",
              "      <th>order_number</th>\n",
              "      <th>order_dow</th>\n",
              "      <th>order_hour_of_day</th>\n",
              "      <th>days_since_prior_order</th>\n",
              "    </tr>\n",
              "  </thead>\n",
              "  <tbody>\n",
              "    <tr>\n",
              "      <th>0</th>\n",
              "      <td>2</td>\n",
              "      <td>33120</td>\n",
              "      <td>1</td>\n",
              "      <td>1</td>\n",
              "      <td>Organic Egg Whites</td>\n",
              "      <td>86</td>\n",
              "      <td>16</td>\n",
              "      <td>dairy eggs</td>\n",
              "      <td>202279</td>\n",
              "      <td>prior</td>\n",
              "      <td>3</td>\n",
              "      <td>5</td>\n",
              "      <td>9</td>\n",
              "      <td>8.0</td>\n",
              "    </tr>\n",
              "  </tbody>\n",
              "</table>\n",
              "</div>"
            ],
            "text/plain": [
              "   order_id  product_id  add_to_cart_order  reordered        product_name  \\\n",
              "0         2       33120                  1          1  Organic Egg Whites   \n",
              "\n",
              "   aisle_id  department_id  department  user_id eval_set  order_number  \\\n",
              "0        86             16  dairy eggs   202279    prior             3   \n",
              "\n",
              "   order_dow  order_hour_of_day  days_since_prior_order  \n",
              "0          5                  9                     8.0  "
            ]
          },
          "execution_count": 39,
          "metadata": {},
          "output_type": "execute_result"
        }
      ],
      "source": [
        "\n",
        "df = pd.merge(order_products_prior,products,on=['product_id','product_id'])\n",
        "\n",
        "df = pd.merge(df,departments,on=['department_id','department_id'])\n",
        "\n",
        "df = pd.merge(df,orders,on=['order_id','order_id'])\n",
        "df.head(1)"
      ]
    },
    {
      "cell_type": "markdown",
      "metadata": {
        "id": "EfyoX6Do8x80"
      },
      "source": [
        "#Top Reordered Department"
      ]
    },
    {
      "cell_type": "code",
      "execution_count": 40,
      "metadata": {
        "id": "9PjK3edy80wB"
      },
      "outputs": [
        {
          "data": {
            "image/png": "[encoded data removed]",
            "text/plain": [
              "<Figure size 1080x720 with 1 Axes>"
            ]
          },
          "metadata": {
            "needs_background": "light"
          },
          "output_type": "display_data"
        }
      ],
      "source": [
        "\n",
        "grp = df.groupby(['department_id','department'])['reordered'].aggregate('count').reset_index()\n",
        "grp['reorder_count'] = grp.reordered\n",
        "grp['dept'] = grp.department\n",
        "\n",
        "plt.figure(figsize=(15,10))\n",
        "sns.barplot(data=grp,x='dept',y='reorder_count')\n",
        "plt.ylabel('Count', fontsize=12)\n",
        "plt.xlabel('Department', fontsize=12)\n",
        "plt.title('Reordered Department', fontsize=15)\n",
        "plt.xticks(rotation='vertical')\n",
        "plt.show()"
      ]
    },
    {
      "cell_type": "markdown",
      "metadata": {
        "id": "ri3PIKQa853j"
      },
      "source": [
        "Most Users reorder from Produce and Dairy Eggs Department as they are essential for every day that's why they have high peak than any other department."
      ]
    },
    {
      "cell_type": "markdown",
      "metadata": {
        "id": "vVOaRfFkA857"
      },
      "source": [
        "The reason I have not done Pairplot and Correlation Between the features, there are lot of features in the data and here the task in the EDA is to understand user bheaviour.There are lot of features have same distribution in the case of order and reorder ratio and that makes them useful for the task."
      ]
    }
  ],
  "metadata": {
    "colab": {
      "name": "MLProject.ipynb",
      "provenance": []
    },
    "kernelspec": {
      "display_name": "Python 3 (ipykernel)",
      "language": "python",
      "name": "python3"
    },
    "language_info": {
      "codemirror_mode": {
        "name": "ipython",
        "version": 3
      },
      "file_extension": ".py",
      "mimetype": "text/x-python",
      "name": "python",
      "nbconvert_exporter": "python",
      "pygments_lexer": "ipython3",
      "version": "3.8.0"
    }
  },
  "nbformat": 4,
  "nbformat_minor": 0
}
